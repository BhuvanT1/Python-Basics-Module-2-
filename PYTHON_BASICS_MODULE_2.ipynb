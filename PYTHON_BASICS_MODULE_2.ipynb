{
  "nbformat": 4,
  "nbformat_minor": 0,
  "metadata": {
    "colab": {
      "provenance": []
    },
    "kernelspec": {
      "name": "python3",
      "display_name": "Python 3"
    },
    "language_info": {
      "name": "python"
    }
  },
  "cells": [
    {
      "cell_type": "code",
      "execution_count": null,
      "metadata": {
        "id": "34GC9tm68Cn1"
      },
      "outputs": [],
      "source": []
    },
    {
      "cell_type": "markdown",
      "source": [
        "# PYTHON BASICS\n"
      ],
      "metadata": {
        "id": "Mj-tSE-o8ioX"
      }
    },
    {
      "cell_type": "code",
      "source": [],
      "metadata": {
        "id": "fdbI4uLT80EI"
      },
      "execution_count": null,
      "outputs": []
    },
    {
      "cell_type": "markdown",
      "source": [
        "#THEORITICAL QUESTIONS\n",
        "\n",
        "```\n",
        "# This is formatted as code\n",
        "```\n",
        "\n"
      ],
      "metadata": {
        "id": "tpyYm-vb9dST"
      }
    },
    {
      "cell_type": "markdown",
      "source": [
        "\n",
        "\n",
        "#Q1. What is Python, and why is it popular ?\n",
        "\n",
        "    -Python is a interpreted ,object- oriented ,high level programming language that is easy to understand and write, making it a popular choice among developers and programmers. It is compatible with various programming paradigms, such as procedural, object-oriented, and functional programming. Python has a large and active community of developers, an extensive standard library, and third-party packages for various domains.\n",
        "\n",
        "#Q2.What is an interpreter in Python ?\n",
        "\n",
        "    ->A Python interpreter is a computer program that reads and executes Python code line by line .\n",
        "    The interpreter translates the Python code into machine-readable bytecode, and then executes the bytecode.\n",
        "\n",
        "#Q3.What are pre-defined keywords in Python ?\n",
        "\n",
        "    ->Keywords are reserved words in Python that have special meanings and cannot be used as identifiers\n",
        "    Keywords are case-sensitive and cannot be redefined or overridden within a Python program.\n",
        "    some example of keywords in python are\n",
        "    for,while,def,class,import,if,else,None,True,False, etc.\n",
        "   \n",
        "\n",
        "#Q4.Can keywords be used as variable names ?\n",
        "\n",
        "    -> No, keywords cannot be used as variables in Python.Using a keyword as a variable name will lead to a syntax error because the interpreter will try to interpret it as a keyword, not a variable.\n",
        "\n",
        "#Q5.What is mutability in Python?\n",
        "\n",
        "    -> An object is considered mutable if its state or value can be modified after it is created. This means that you can alter its internal data like in List, you can alter a List in python\n",
        "\n",
        "#Q6.Why are lists mutable, but tuples are immutable ?\n",
        "\n",
        "    ->lists are considered mutable because they can be altered after creation, while tuples are immutable, meaning their contents cannot be modified or altered once they are created.\n",
        "\n",
        "#Q7. What is the difference between “==” and “is” operators in Python ?\n",
        "\n",
        "    ->The = operator is used for assignment, such as when assigning a value to a variable on the otherhand\n",
        "    The == operator is the relational operator for checking equality of two values. If the values are the same, it will return can return boolean values such as  True, and will return False otherwise.\n",
        "\n",
        "#Q8.What are logical operators in Python ?\n",
        "\n",
        "    -> Logical operator combine two or more operands and conduct logical comparisons on them. There are three types, i.e., AND, OR, and NOT. They return a boolean value, i.e. True and False.\n",
        "\n",
        "#Q9.What is type casting in Python ?\n",
        "\n",
        "    ->Type casting is the process of converting a value from one data type to another. There are two types of type casting one is implicit type casting and the other is explicit type casting.\n",
        "\n",
        "#Q10 What is the difference between implicit and explicit type casting ?\n",
        "\n",
        "    -> Implicit type casting, is when the programming language automatically converts one data type to another whereas explicit type casting, or coercion, is when the programming language automatically converts one data type to another.\n",
        "  \n",
        "\n",
        "#Q11. What is the purpose of conditional statements in Python?\n",
        "\n",
        "    -> In Python, conditional statements like if and else are used to tell your program to perform different actions depending on whether a certain condition is true or false, essentially allowing your code to make decisions based on specific situations within the program.\n",
        "\n",
        "\n",
        "#Q12. How does the elif statement work ?\n",
        "\n",
        "    ->If the first condition is false, the program moves on to the next elif statement to check if that condition is true.\n",
        "    If none of the conditions are true, the program executes the else statement.\n",
        "\n",
        "#Q13.What is the difference between for and while loops?\n",
        "\n",
        "    ->For loop is Used when the number of iterations is known well before. A for loop repeats a block of code for each item in a list or sequence, whereas a While loop\n",
        "    Used when the number of iterations is unknown in advance. A while loop repeats a block of code as long as a certain condition is true.\n",
        "\n",
        "#Q14. Describe a scenario where a while loop is more suitable than a for loop.\n",
        "   \n",
        "    ->Taking a Scenarion where :\n",
        "    \n",
        "    You want to repeatedly ask a user to input a number within a certain range until they provide a valid input.\n",
        "    \n",
        "    In this scenario describes a programming situation where you want to continuously prompt a user to enter a number, but only accept inputs that fall within a specified range. If the user enters a number outside that range, the program should display an error message and immediately ask them to try again, repeating this process until they provide a valid number within the allowed range.Therefoe a while loop is used."
      ],
      "metadata": {
        "id": "ATSYkJOA82c8"
      }
    },
    {
      "cell_type": "markdown",
      "source": [
        "#PRACTICAL QUESTIONS"
      ],
      "metadata": {
        "id": "fgE7GhRHlGHm"
      }
    },
    {
      "cell_type": "code",
      "source": [
        "#Q1. Write a Python program to print \"Hello, World!_\n",
        "\n",
        "print(\"Hello, World!\")\n"
      ],
      "metadata": {
        "id": "oKy54QOF9LJV",
        "colab": {
          "base_uri": "https://localhost:8080/"
        },
        "outputId": "589599df-3e8c-41d3-db05-b9e7eef343e9"
      },
      "execution_count": 3,
      "outputs": [
        {
          "output_type": "stream",
          "name": "stdout",
          "text": [
            "Hello, World!\n"
          ]
        }
      ]
    },
    {
      "cell_type": "code",
      "source": [
        "#Q2.Write a Python program that displays your name and age.\n",
        "\n",
        "name = \"Themballi Bhuvan\"\n",
        "age = 20\n",
        "print(\"Name:\", name)\n",
        "print(\"Age:\", age)\n"
      ],
      "metadata": {
        "colab": {
          "base_uri": "https://localhost:8080/"
        },
        "id": "fK-1xe4Zlomv",
        "outputId": "b7e3eff1-6859-433e-e944-8beddae9a096"
      },
      "execution_count": 5,
      "outputs": [
        {
          "output_type": "stream",
          "name": "stdout",
          "text": [
            "Name: Themballi Bhuvan\n",
            "Age: 20\n"
          ]
        }
      ]
    },
    {
      "cell_type": "code",
      "source": [
        "#Q3.Write code to print all the pre-defined keywords in Python using the keyword library.\n",
        "\n",
        "import keyword\n",
        "print(keyword.kwlist)\n",
        "\n"
      ],
      "metadata": {
        "colab": {
          "base_uri": "https://localhost:8080/"
        },
        "id": "nG8MlTppminZ",
        "outputId": "8cf75973-043f-41d9-db6f-5dfe8a81fcfb"
      },
      "execution_count": 6,
      "outputs": [
        {
          "output_type": "stream",
          "name": "stdout",
          "text": [
            "['False', 'None', 'True', 'and', 'as', 'assert', 'async', 'await', 'break', 'class', 'continue', 'def', 'del', 'elif', 'else', 'except', 'finally', 'for', 'from', 'global', 'if', 'import', 'in', 'is', 'lambda', 'nonlocal', 'not', 'or', 'pass', 'raise', 'return', 'try', 'while', 'with', 'yield']\n"
          ]
        }
      ]
    },
    {
      "cell_type": "code",
      "source": [
        "#Q4.Write a program that checks if a given word is a Python keyword.\n",
        "\n",
        "import keyword\n",
        "word = \"Bhuvan\"\n",
        "if keyword.iskeyword(word):\n",
        "    print(word, \"is a Python keyword\")\n",
        "else:\n",
        "    print(word, \"is not a Python keyword\")\n"
      ],
      "metadata": {
        "colab": {
          "base_uri": "https://localhost:8080/"
        },
        "id": "8U9Yz3mlmxnq",
        "outputId": "1cdc8ddb-405d-4eb0-8816-02e6357d7043"
      },
      "execution_count": 7,
      "outputs": [
        {
          "output_type": "stream",
          "name": "stdout",
          "text": [
            "Bhuvan is not a Python keyword\n"
          ]
        }
      ]
    },
    {
      "cell_type": "code",
      "source": [
        "#Q5.Create a list and tuple in Python and demonstrate how attempting to change an element works differently for each.\n",
        "\n",
        "my_list = [1, 2, 3]\n",
        "my_tuple = (1, 2, 3)\n",
        "\n",
        "my_list[0] = 10\n",
        "# my_tuple[0] = 10  #  will cause an error as tuple is immutable\n",
        "\n",
        "print(my_list)\n",
        "print(my_tuple)\n"
      ],
      "metadata": {
        "colab": {
          "base_uri": "https://localhost:8080/"
        },
        "id": "jLlGat35nJbG",
        "outputId": "fc7b71a4-803b-4eed-c403-0b30a7e0ce7f"
      },
      "execution_count": 8,
      "outputs": [
        {
          "output_type": "stream",
          "name": "stdout",
          "text": [
            "[10, 2, 3]\n",
            "(1, 2, 3)\n"
          ]
        }
      ]
    },
    {
      "cell_type": "code",
      "source": [
        "#Q6. Write a function to demonstrate the behavior of mutable and immutable arguments.\n",
        "\n",
        "def modify_list(lst):\n",
        "    lst[0] = 10\n",
        "\n",
        "def modify_tuple(tpl):\n",
        "    tpl = (10, 2, 3)\n",
        "\n",
        "my_list = [1, 2, 3]\n",
        "my_tuple = (1, 2, 3)\n",
        "\n",
        "modify_list(my_list)\n",
        "modify_tuple(my_tuple)\n",
        "\n",
        "print(my_list)\n",
        "print(my_tuple)\n",
        "\n"
      ],
      "metadata": {
        "colab": {
          "base_uri": "https://localhost:8080/"
        },
        "id": "gSRsyrlSn_mA",
        "outputId": "0ceaf06c-94bf-4859-92bb-e3b178e50604"
      },
      "execution_count": 11,
      "outputs": [
        {
          "output_type": "stream",
          "name": "stdout",
          "text": [
            "[10, 2, 3]\n",
            "(1, 2, 3)\n"
          ]
        }
      ]
    },
    {
      "cell_type": "code",
      "source": [
        "#Q7.Write a function to demonstrate the behavior of mutable and immutable arguments.\n",
        "\n",
        "#REPEATED QUESTION\n",
        "\n",
        "def modify_list(lst):\n",
        "    lst[0] = 10\n",
        "\n",
        "def modify_tuple(tpl):\n",
        "    tpl = (10, 2, 3)\n",
        "\n",
        "my_list = [1, 2, 3]\n",
        "my_tuple = (1, 2, 3)\n",
        "\n",
        "modify_list(my_list)\n",
        "modify_tuple(my_tuple)\n",
        "\n",
        "print(my_list)\n",
        "print(my_tuple)\n"
      ],
      "metadata": {
        "colab": {
          "base_uri": "https://localhost:8080/"
        },
        "id": "DKHqp2nvoVZy",
        "outputId": "204b52f2-7a59-4991-c564-5d03d9cd5f6d"
      },
      "execution_count": 13,
      "outputs": [
        {
          "output_type": "stream",
          "name": "stdout",
          "text": [
            "[10, 2, 3]\n",
            "(1, 2, 3)\n"
          ]
        }
      ]
    },
    {
      "cell_type": "code",
      "source": [
        "#Q8.Write a program to demonstrate the use of logical operators.\n",
        "\n",
        "a = True\n",
        "b = False\n",
        "\n",
        "print(a and b)\n",
        "print(a or b)\n",
        "print(not a)\n"
      ],
      "metadata": {
        "colab": {
          "base_uri": "https://localhost:8080/"
        },
        "id": "WCFdn3dcoheh",
        "outputId": "4c0606d2-c203-44a8-d331-b700c6d106ca"
      },
      "execution_count": 15,
      "outputs": [
        {
          "output_type": "stream",
          "name": "stdout",
          "text": [
            "False\n",
            "True\n",
            "False\n"
          ]
        }
      ]
    },
    {
      "cell_type": "code",
      "source": [
        "#Q9.Write a Python program to convert user input from string to integer, float, and boolean types.\n",
        "\n",
        "a = input(\"Enter a number: \")\n",
        "int_value = int(a)\n",
        "float_value = float(a)\n",
        "bool_value = bool(a)\n",
        "\n",
        "print(int_value)\n",
        "print(float_value)\n",
        "print(bool_value)\n"
      ],
      "metadata": {
        "colab": {
          "base_uri": "https://localhost:8080/"
        },
        "id": "RAcdeqz2pLtO",
        "outputId": "475e3ffa-a517-449b-f5e1-b90653d2f806"
      },
      "execution_count": 18,
      "outputs": [
        {
          "output_type": "stream",
          "name": "stdout",
          "text": [
            "Enter a number: 78\n",
            "78\n",
            "78.0\n",
            "True\n"
          ]
        }
      ]
    },
    {
      "cell_type": "code",
      "source": [
        "#Q10.Write code to demonstrate type casting with list elements.\n",
        "\n",
        "my_list = [\"1\", \"2\", \"3\"]\n",
        "float_list = [float(i) for i in my_list]\n",
        "print(float_list)\n",
        "\n"
      ],
      "metadata": {
        "colab": {
          "base_uri": "https://localhost:8080/"
        },
        "id": "T6Rlu-k_piWP",
        "outputId": "2c4231ba-aa5c-4c6e-c464-e70e9ac79633"
      },
      "execution_count": 20,
      "outputs": [
        {
          "output_type": "stream",
          "name": "stdout",
          "text": [
            "[1.0, 2.0, 3.0]\n"
          ]
        }
      ]
    },
    {
      "cell_type": "code",
      "source": [
        "#Q11.Write a program that checks if a number is positive, negative, or zero.\n",
        "\n",
        "n = int(input(\"Enter a number: \"))\n",
        "\n",
        "if n > 0:\n",
        "    print(\"The number is positive\")\n",
        "elif n < 0:\n",
        "    print(\"The number is negative\")\n",
        "else:\n",
        "    print(\"The number is zero\")\n"
      ],
      "metadata": {
        "colab": {
          "base_uri": "https://localhost:8080/"
        },
        "id": "NdJP55-Yp5xE",
        "outputId": "e9226278-5f71-430d-8031-35c12ecedc45"
      },
      "execution_count": 22,
      "outputs": [
        {
          "output_type": "stream",
          "name": "stdout",
          "text": [
            "Enter a number: 56\n",
            "The number is positive\n"
          ]
        }
      ]
    },
    {
      "cell_type": "code",
      "source": [
        "#Q12.Write a for loop to print numbers from 1 to 100.\n",
        "\n",
        "for i in range(1,101):\n",
        "  print(i,end=\" \")"
      ],
      "metadata": {
        "colab": {
          "base_uri": "https://localhost:8080/"
        },
        "id": "QQGL0PBUqaSk",
        "outputId": "101c9ec6-a50c-4630-f0e6-bcbd0d904e55"
      },
      "execution_count": 25,
      "outputs": [
        {
          "output_type": "stream",
          "name": "stdout",
          "text": [
            "1 2 3 4 5 6 7 8 9 10 11 12 13 14 15 16 17 18 19 20 21 22 23 24 25 26 27 28 29 30 31 32 33 34 35 36 37 38 39 40 41 42 43 44 45 46 47 48 49 50 51 52 53 54 55 56 57 58 59 60 61 62 63 64 65 66 67 68 69 70 71 72 73 74 75 76 77 78 79 80 81 82 83 84 85 86 87 88 89 90 91 92 93 94 95 96 97 98 99 100 "
          ]
        }
      ]
    },
    {
      "cell_type": "code",
      "source": [
        "#Q13.Write a Python program to find the sum of all even number between 1 and 500.\n",
        "\n",
        "\n",
        "sum = 0\n",
        "\n",
        "for i in range(1, 501):\n",
        "    if i % 2 == 0:\n",
        "        sum += i\n",
        "\n",
        "print(sum)\n"
      ],
      "metadata": {
        "colab": {
          "base_uri": "https://localhost:8080/"
        },
        "id": "l0MVua4Uqw00",
        "outputId": "97a37130-2c23-4868-d000-68a0a5dae996"
      },
      "execution_count": 27,
      "outputs": [
        {
          "output_type": "stream",
          "name": "stdout",
          "text": [
            "62750\n"
          ]
        }
      ]
    },
    {
      "cell_type": "code",
      "source": [
        "#Q14. Write a program to reverse a string using a while loop.\n",
        "\n",
        "string = \"Bhuvan\"\n",
        "reversed_string = \"\"\n",
        "i= len(string) - 1\n",
        "\n",
        "while i >= 0:\n",
        "    reversed_string += string[i]\n",
        "    i -= 1\n",
        "\n",
        "print(reversed_string)\n",
        "\n"
      ],
      "metadata": {
        "colab": {
          "base_uri": "https://localhost:8080/"
        },
        "id": "wOC11B9SrShw",
        "outputId": "3da5522d-b191-4e88-b200-ffc19205aeb9"
      },
      "execution_count": 28,
      "outputs": [
        {
          "output_type": "stream",
          "name": "stdout",
          "text": [
            "navuhB\n"
          ]
        }
      ]
    },
    {
      "cell_type": "code",
      "source": [
        "#Q15.0 Write a Python program to calculate the factorial of a number provided by the user using a while loop.\n",
        "\n",
        "\n",
        "n = int(input(\"Enter a number: \"))\n",
        "f = 1\n",
        "i = n\n",
        "\n",
        "while i > 0:\n",
        "    f *= i\n",
        "    i -= 1\n",
        "\n",
        "print(f)\n"
      ],
      "metadata": {
        "colab": {
          "base_uri": "https://localhost:8080/"
        },
        "id": "mBnb3YKIrxv8",
        "outputId": "9f1f37b8-a281-4018-e32a-2ffc0c255d43"
      },
      "execution_count": 29,
      "outputs": [
        {
          "output_type": "stream",
          "name": "stdout",
          "text": [
            "Enter a number: 4\n",
            "24\n"
          ]
        }
      ]
    },
    {
      "cell_type": "code",
      "source": [],
      "metadata": {
        "id": "PQokHAnisFkS"
      },
      "execution_count": null,
      "outputs": []
    }
  ]
}